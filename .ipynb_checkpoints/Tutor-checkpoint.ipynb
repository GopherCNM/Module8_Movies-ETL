{
 "cells": [
  {
   "cell_type": "code",
   "execution_count": 7,
   "id": "205c0c7e",
   "metadata": {},
   "outputs": [
    {
     "name": "stdout",
     "output_type": "stream",
     "text": [
      "12\n",
      "None\n"
     ]
    }
   ],
   "source": [
    "## Create a function to add 3 numbers -> No arguments & no return\n",
    "def add3():\n",
    "    a = 3\n",
    "    b = 4\n",
    "    c = 5\n",
    "    print(a+b+c)\n",
    "\n",
    "add3()\n",
    "## return is the output, not print"
   ]
  },
  {
   "cell_type": "code",
   "execution_count": 8,
   "id": "8c8bb116",
   "metadata": {},
   "outputs": [
    {
     "name": "stdout",
     "output_type": "stream",
     "text": [
      "12\n"
     ]
    }
   ],
   "source": [
    "## with return statement\n",
    "def add3():\n",
    "    a = 3\n",
    "    b = 4\n",
    "    c = 5\n",
    "    return a+b+c\n",
    "a = add3()\n",
    "print(a)\n",
    "\n",
    "## return should be either printed or stored as a variable"
   ]
  },
  {
   "cell_type": "code",
   "execution_count": 9,
   "id": "7a8956eb",
   "metadata": {},
   "outputs": [
    {
     "data": {
      "text/plain": [
       "(7, 8)"
      ]
     },
     "execution_count": 9,
     "metadata": {},
     "output_type": "execute_result"
    }
   ],
   "source": [
    "def add3():\n",
    "    a = 3\n",
    "    b = 4\n",
    "    c = 5\n",
    "    return a+b, a+c\n",
    "a,b = add3()\n",
    "\n",
    "## this example has 2 returns; these get stored as 2 numbers\n",
    "## similar to the module 8 challenge, except in the challenge there were 3 returns\n",
    "## these 3 returns can then be assigned to the 3 specified variables (# of variables = # of returns)"
   ]
  },
  {
   "cell_type": "code",
   "execution_count": 15,
   "id": "4fed919d",
   "metadata": {},
   "outputs": [
    {
     "data": {
      "text/plain": [
       "19"
      ]
     },
     "execution_count": 15,
     "metadata": {},
     "output_type": "execute_result"
    }
   ],
   "source": [
    "#function with arguments & no return\n",
    "x = 3\n",
    "y = 7\n",
    "z = 9\n",
    "\n",
    "def add3(a,b,c):\n",
    "        \n",
    "    return x+y+z \n",
    "\n",
    "\n",
    "\n",
    "add3(x,y,z)\n",
    "\n",
    "## if you list 3 arguments in the definition, you need to list 3 variables in order to call the funtion"
   ]
  },
  {
   "cell_type": "code",
   "execution_count": 17,
   "id": "22ab979b",
   "metadata": {},
   "outputs": [
    {
     "data": {
      "text/plain": [
       "14"
      ]
     },
     "execution_count": 17,
     "metadata": {},
     "output_type": "execute_result"
    }
   ],
   "source": [
    "def add3(a,b,c):\n",
    "        \n",
    "    return a+b+c\n",
    "\n",
    "## lambda functions are 1 and done - clean and simple and won't be referenced later, but do the same as functions\n",
    "## Regular functions can be called later"
   ]
  },
  {
   "cell_type": "code",
   "execution_count": 22,
   "id": "8204a078",
   "metadata": {},
   "outputs": [
    {
     "name": "stdout",
     "output_type": "stream",
     "text": [
      "[6, 7, 9]\n"
     ]
    }
   ],
   "source": [
    "a = [4,6,7,2,9]\n",
    "b = []\n",
    "for i in a:\n",
    "    if i > 5:\n",
    "        b.append(i)\n",
    "print(b)\n",
    "\n",
    "## list comprehension is a consolidation of for loops (see above)"
   ]
  },
  {
   "cell_type": "code",
   "execution_count": 23,
   "id": "fa044f5a",
   "metadata": {},
   "outputs": [
    {
     "data": {
      "text/plain": [
       "[6, 7, 9]"
      ]
     },
     "execution_count": 23,
     "metadata": {},
     "output_type": "execute_result"
    }
   ],
   "source": [
    "## this list comprehension does the same thing as above, but much cleaner\n",
    "## 1. start with the for loop - for i in a\n",
    "## 2. then the condition/filter - if i>5\n",
    "## 3. finally add the output at the start of the statement - i\n",
    "[i for i in a if i>5]"
   ]
  },
  {
   "cell_type": "code",
   "execution_count": null,
   "id": "704596c0",
   "metadata": {},
   "outputs": [],
   "source": []
  }
 ],
 "metadata": {
  "kernelspec": {
   "display_name": "PythonData",
   "language": "python",
   "name": "pythondata"
  },
  "language_info": {
   "codemirror_mode": {
    "name": "ipython",
    "version": 3
   },
   "file_extension": ".py",
   "mimetype": "text/x-python",
   "name": "python",
   "nbconvert_exporter": "python",
   "pygments_lexer": "ipython3",
   "version": "3.7.11"
  }
 },
 "nbformat": 4,
 "nbformat_minor": 5
}
